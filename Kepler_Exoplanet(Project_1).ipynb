{
  "nbformat": 4,
  "nbformat_minor": 0,
  "metadata": {
    "colab": {
      "provenance": [],
      "authorship_tag": "ABX9TyOv9hxW8ki8FNfA2cyjzDuf",
      "include_colab_link": true
    },
    "kernelspec": {
      "name": "python3",
      "display_name": "Python 3"
    },
    "language_info": {
      "name": "python"
    }
  },
  "cells": [
    {
      "cell_type": "markdown",
      "metadata": {
        "id": "view-in-github",
        "colab_type": "text"
      },
      "source": [
        "<a href=\"https://colab.research.google.com/github/Malavika-Gupta/Kepler-Exoplanet-Detection/blob/main/Kepler_Exoplanet(Project_1).ipynb\" target=\"_parent\"><img src=\"https://colab.research.google.com/assets/colab-badge.svg\" alt=\"Open In Colab\"/></a>"
      ]
    },
    {
      "cell_type": "code",
      "execution_count": null,
      "metadata": {
        "id": "UZyC5OLqsVXr"
      },
      "outputs": [],
      "source": [
        "import pandas as pd\n",
        "from sklearn.preprocessing import StandardScaler\n",
        "from sklearn.model_selection import train_test_split\n",
        "import math\n",
        "import tensorflow as tf\n",
        "from tensorflow.keras.models import Sequential\n",
        "from tensorflow.keras.layers import Dense\n",
        "from tensorflow.keras.utils import plot_model\n",
        "from IPython.display import Image, display"
      ]
    },
    {
      "cell_type": "code",
      "source": [
        "file_path='/content/kepler_dataset.csv'\n",
        "df=pd.read_csv(file_path,header=0)\n",
        "#wecan directly use column names with header=0\n",
        "#7803 data points 39 feature columns\n",
        "#print few rows of starting default 5\n",
        "df=df.loc[:6900]"
      ],
      "metadata": {
        "id": "XT7tLzD6snoO"
      },
      "execution_count": null,
      "outputs": []
    },
    {
      "cell_type": "code",
      "source": [
        "#first we split then we normalize to prevent data leakage and increase accuracy\n",
        "l=['ExoplanetCandidate','ExoplanetConfirmed']\n",
        "X=df.drop(l,axis=1)  # Features (excluding the target column)\n",
        "y=df['ExoplanetCandidate']  # Target variable\n",
        "#Splitting\n",
        "X_train, X_test, y_train, y_test = train_test_split(X, y, test_size=4000/7000, random_state=42)\n",
        "\n",
        "#Normalizatiom\n",
        "scaler=StandardScaler()\n",
        "X_train_normalized = scaler.fit_transform(X_train)\n",
        "X_test_normalized = scaler.transform(X_test)\n"
      ],
      "metadata": {
        "id": "4BixHlKnuF4u"
      },
      "execution_count": null,
      "outputs": []
    },
    {
      "cell_type": "code",
      "source": [
        "#Building Neural Network Model\n",
        "model=Sequential()\n",
        "\n",
        "# Add input layer\n",
        "model.add(Dense(units=16,activation='sigmoid', input_shape=(X_train_normalized.shape[1],)))\n",
        "\n",
        "# Add hidden layers\n",
        "model.add(Dense(units=8,activation='sigmoid'))\n",
        "model.add(Dense(units=4,activation='sigmoid'))\n",
        "\n",
        "# Add the output layer\n",
        "model.add(Dense(units=1,activation='sigmoid'))  # For binary classification\n",
        "\n",
        "# Compile the model\n",
        "model.compile(optimizer='adam', loss='binary_crossentropy', metrics=['accuracy'])\n",
        "\n",
        "# Print the summary of the model\n",
        "model.summary()\n"
      ],
      "metadata": {
        "colab": {
          "base_uri": "https://localhost:8080/"
        },
        "id": "3u_gwXScuF78",
        "outputId": "a40d91fb-0436-49ef-f0ed-2a38f81973e6"
      },
      "execution_count": null,
      "outputs": [
        {
          "output_type": "stream",
          "name": "stdout",
          "text": [
            "Model: \"sequential_3\"\n",
            "_________________________________________________________________\n",
            " Layer (type)                Output Shape              Param #   \n",
            "=================================================================\n",
            " dense_12 (Dense)            (None, 16)                608       \n",
            "                                                                 \n",
            " dense_13 (Dense)            (None, 8)                 136       \n",
            "                                                                 \n",
            " dense_14 (Dense)            (None, 4)                 36        \n",
            "                                                                 \n",
            " dense_15 (Dense)            (None, 1)                 5         \n",
            "                                                                 \n",
            "=================================================================\n",
            "Total params: 785 (3.07 KB)\n",
            "Trainable params: 785 (3.07 KB)\n",
            "Non-trainable params: 0 (0.00 Byte)\n",
            "_________________________________________________________________\n"
          ]
        }
      ]
    },
    {
      "cell_type": "code",
      "source": [
        "# Train the model\n",
        "model.fit(X_train_normalized, y_train, epochs=50, batch_size=32, validation_split=0.2)\n",
        "# Evaluate the model on the test set\n",
        "loss, accuracy = model.evaluate(X_test_normalized, y_test)\n",
        "\n",
        "print(f'Test Loss: {loss}')\n",
        "print(f'Test Accuracy: {accuracy}')\n",
        "\n",
        "from tensorflow.keras.utils import plot_model\n",
        "\n",
        "# Plot the model architecture and display it\n",
        "plot_file = 'model_plot.png'\n",
        "plot_model(model, to_file=plot_file, show_shapes=True, show_layer_names=True)\n",
        "\n",
        "# Display the plot inline\n",
        "display(Image(filename=plot_file))\n"
      ],
      "metadata": {
        "colab": {
          "base_uri": "https://localhost:8080/",
          "height": 1000
        },
        "id": "LxbAVosbvSbM",
        "outputId": "948bfb5f-b7a8-481f-b2f3-1d82ad33789a"
      },
      "execution_count": null,
      "outputs": [
        {
          "output_type": "stream",
          "name": "stdout",
          "text": [
            "Epoch 1/50\n",
            "74/74 [==============================] - 1s 6ms/step - loss: 0.6881 - accuracy: 0.5421 - val_loss: 0.6748 - val_accuracy: 0.5726\n",
            "Epoch 2/50\n",
            "74/74 [==============================] - 0s 3ms/step - loss: 0.6664 - accuracy: 0.5598 - val_loss: 0.6497 - val_accuracy: 0.5980\n",
            "Epoch 3/50\n",
            "74/74 [==============================] - 0s 3ms/step - loss: 0.6323 - accuracy: 0.6605 - val_loss: 0.6049 - val_accuracy: 0.7652\n",
            "Epoch 4/50\n",
            "74/74 [==============================] - 0s 3ms/step - loss: 0.5747 - accuracy: 0.8300 - val_loss: 0.5365 - val_accuracy: 0.8598\n",
            "Epoch 5/50\n",
            "74/74 [==============================] - 0s 3ms/step - loss: 0.5015 - accuracy: 0.8850 - val_loss: 0.4595 - val_accuracy: 0.8953\n",
            "Epoch 6/50\n",
            "74/74 [==============================] - 0s 3ms/step - loss: 0.4258 - accuracy: 0.9167 - val_loss: 0.3861 - val_accuracy: 0.9257\n",
            "Epoch 7/50\n",
            "74/74 [==============================] - 0s 3ms/step - loss: 0.3587 - accuracy: 0.9370 - val_loss: 0.3246 - val_accuracy: 0.9476\n",
            "Epoch 8/50\n",
            "74/74 [==============================] - 0s 3ms/step - loss: 0.3054 - accuracy: 0.9476 - val_loss: 0.2781 - val_accuracy: 0.9561\n",
            "Epoch 9/50\n",
            "74/74 [==============================] - 0s 3ms/step - loss: 0.2662 - accuracy: 0.9548 - val_loss: 0.2428 - val_accuracy: 0.9595\n",
            "Epoch 10/50\n",
            "74/74 [==============================] - 0s 4ms/step - loss: 0.2373 - accuracy: 0.9573 - val_loss: 0.2172 - val_accuracy: 0.9628\n",
            "Epoch 11/50\n",
            "74/74 [==============================] - 0s 3ms/step - loss: 0.2159 - accuracy: 0.9590 - val_loss: 0.1985 - val_accuracy: 0.9628\n",
            "Epoch 12/50\n",
            "74/74 [==============================] - 0s 3ms/step - loss: 0.1997 - accuracy: 0.9598 - val_loss: 0.1846 - val_accuracy: 0.9645\n",
            "Epoch 13/50\n",
            "74/74 [==============================] - 0s 3ms/step - loss: 0.1874 - accuracy: 0.9615 - val_loss: 0.1743 - val_accuracy: 0.9628\n",
            "Epoch 14/50\n",
            "74/74 [==============================] - 0s 3ms/step - loss: 0.1775 - accuracy: 0.9624 - val_loss: 0.1662 - val_accuracy: 0.9628\n",
            "Epoch 15/50\n",
            "74/74 [==============================] - 0s 3ms/step - loss: 0.1691 - accuracy: 0.9632 - val_loss: 0.1595 - val_accuracy: 0.9628\n",
            "Epoch 16/50\n",
            "74/74 [==============================] - 0s 3ms/step - loss: 0.1628 - accuracy: 0.9649 - val_loss: 0.1538 - val_accuracy: 0.9628\n",
            "Epoch 17/50\n",
            "74/74 [==============================] - 0s 3ms/step - loss: 0.1577 - accuracy: 0.9636 - val_loss: 0.1505 - val_accuracy: 0.9628\n",
            "Epoch 18/50\n",
            "74/74 [==============================] - 0s 4ms/step - loss: 0.1530 - accuracy: 0.9658 - val_loss: 0.1472 - val_accuracy: 0.9611\n",
            "Epoch 19/50\n",
            "74/74 [==============================] - 0s 3ms/step - loss: 0.1493 - accuracy: 0.9641 - val_loss: 0.1436 - val_accuracy: 0.9611\n",
            "Epoch 20/50\n",
            "74/74 [==============================] - 0s 3ms/step - loss: 0.1467 - accuracy: 0.9649 - val_loss: 0.1424 - val_accuracy: 0.9611\n",
            "Epoch 21/50\n",
            "74/74 [==============================] - 0s 3ms/step - loss: 0.1434 - accuracy: 0.9653 - val_loss: 0.1392 - val_accuracy: 0.9611\n",
            "Epoch 22/50\n",
            "74/74 [==============================] - 0s 3ms/step - loss: 0.1408 - accuracy: 0.9658 - val_loss: 0.1374 - val_accuracy: 0.9611\n",
            "Epoch 23/50\n",
            "74/74 [==============================] - 0s 3ms/step - loss: 0.1387 - accuracy: 0.9670 - val_loss: 0.1356 - val_accuracy: 0.9611\n",
            "Epoch 24/50\n",
            "74/74 [==============================] - 0s 3ms/step - loss: 0.1371 - accuracy: 0.9674 - val_loss: 0.1340 - val_accuracy: 0.9611\n",
            "Epoch 25/50\n",
            "74/74 [==============================] - 0s 4ms/step - loss: 0.1354 - accuracy: 0.9662 - val_loss: 0.1333 - val_accuracy: 0.9628\n",
            "Epoch 26/50\n",
            "74/74 [==============================] - 0s 5ms/step - loss: 0.1341 - accuracy: 0.9666 - val_loss: 0.1317 - val_accuracy: 0.9628\n",
            "Epoch 27/50\n",
            "74/74 [==============================] - 0s 4ms/step - loss: 0.1329 - accuracy: 0.9666 - val_loss: 0.1315 - val_accuracy: 0.9645\n",
            "Epoch 28/50\n",
            "74/74 [==============================] - 0s 5ms/step - loss: 0.1319 - accuracy: 0.9670 - val_loss: 0.1302 - val_accuracy: 0.9645\n",
            "Epoch 29/50\n",
            "74/74 [==============================] - 0s 5ms/step - loss: 0.1309 - accuracy: 0.9658 - val_loss: 0.1289 - val_accuracy: 0.9645\n",
            "Epoch 30/50\n",
            "74/74 [==============================] - 0s 6ms/step - loss: 0.1302 - accuracy: 0.9658 - val_loss: 0.1289 - val_accuracy: 0.9645\n",
            "Epoch 31/50\n",
            "74/74 [==============================] - 0s 7ms/step - loss: 0.1289 - accuracy: 0.9658 - val_loss: 0.1276 - val_accuracy: 0.9662\n",
            "Epoch 32/50\n",
            "74/74 [==============================] - 0s 5ms/step - loss: 0.1284 - accuracy: 0.9662 - val_loss: 0.1282 - val_accuracy: 0.9645\n",
            "Epoch 33/50\n",
            "74/74 [==============================] - 0s 5ms/step - loss: 0.1277 - accuracy: 0.9670 - val_loss: 0.1270 - val_accuracy: 0.9645\n",
            "Epoch 34/50\n",
            "74/74 [==============================] - 0s 5ms/step - loss: 0.1273 - accuracy: 0.9666 - val_loss: 0.1249 - val_accuracy: 0.9662\n",
            "Epoch 35/50\n",
            "74/74 [==============================] - 0s 4ms/step - loss: 0.1268 - accuracy: 0.9662 - val_loss: 0.1248 - val_accuracy: 0.9645\n",
            "Epoch 36/50\n",
            "74/74 [==============================] - 0s 3ms/step - loss: 0.1262 - accuracy: 0.9670 - val_loss: 0.1241 - val_accuracy: 0.9662\n",
            "Epoch 37/50\n",
            "74/74 [==============================] - 0s 3ms/step - loss: 0.1258 - accuracy: 0.9653 - val_loss: 0.1235 - val_accuracy: 0.9645\n",
            "Epoch 38/50\n",
            "74/74 [==============================] - 0s 3ms/step - loss: 0.1248 - accuracy: 0.9674 - val_loss: 0.1237 - val_accuracy: 0.9662\n",
            "Epoch 39/50\n",
            "74/74 [==============================] - 0s 3ms/step - loss: 0.1247 - accuracy: 0.9653 - val_loss: 0.1232 - val_accuracy: 0.9662\n",
            "Epoch 40/50\n",
            "74/74 [==============================] - 0s 3ms/step - loss: 0.1246 - accuracy: 0.9683 - val_loss: 0.1245 - val_accuracy: 0.9662\n",
            "Epoch 41/50\n",
            "74/74 [==============================] - 0s 4ms/step - loss: 0.1247 - accuracy: 0.9666 - val_loss: 0.1240 - val_accuracy: 0.9662\n",
            "Epoch 42/50\n",
            "74/74 [==============================] - 0s 3ms/step - loss: 0.1239 - accuracy: 0.9670 - val_loss: 0.1228 - val_accuracy: 0.9662\n",
            "Epoch 43/50\n",
            "74/74 [==============================] - 0s 3ms/step - loss: 0.1232 - accuracy: 0.9666 - val_loss: 0.1220 - val_accuracy: 0.9662\n",
            "Epoch 44/50\n",
            "74/74 [==============================] - 0s 3ms/step - loss: 0.1234 - accuracy: 0.9674 - val_loss: 0.1214 - val_accuracy: 0.9679\n",
            "Epoch 45/50\n",
            "74/74 [==============================] - 0s 3ms/step - loss: 0.1230 - accuracy: 0.9679 - val_loss: 0.1221 - val_accuracy: 0.9662\n",
            "Epoch 46/50\n",
            "74/74 [==============================] - 0s 3ms/step - loss: 0.1222 - accuracy: 0.9670 - val_loss: 0.1220 - val_accuracy: 0.9645\n",
            "Epoch 47/50\n",
            "74/74 [==============================] - 0s 3ms/step - loss: 0.1218 - accuracy: 0.9670 - val_loss: 0.1206 - val_accuracy: 0.9662\n",
            "Epoch 48/50\n",
            "74/74 [==============================] - 0s 3ms/step - loss: 0.1222 - accuracy: 0.9674 - val_loss: 0.1211 - val_accuracy: 0.9679\n",
            "Epoch 49/50\n",
            "74/74 [==============================] - 0s 3ms/step - loss: 0.1212 - accuracy: 0.9662 - val_loss: 0.1216 - val_accuracy: 0.9662\n",
            "Epoch 50/50\n",
            "74/74 [==============================] - 0s 3ms/step - loss: 0.1210 - accuracy: 0.9674 - val_loss: 0.1208 - val_accuracy: 0.9679\n",
            "124/124 [==============================] - 0s 2ms/step - loss: 0.1543 - accuracy: 0.9544\n",
            "Test Loss: 0.1542772799730301\n",
            "Test Accuracy: 0.954361081123352\n"
          ]
        },
        {
          "output_type": "display_data",
          "data": {
            "image/png": "[encoded data removed]",
            "text/plain": [
              "<IPython.core.display.Image object>"
            ]
          },
          "metadata": {}
        }
      ]
    }
  ]
}